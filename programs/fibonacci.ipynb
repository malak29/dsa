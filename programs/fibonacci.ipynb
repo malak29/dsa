{
 "cells": [
  {
   "cell_type": "markdown",
   "metadata": {},
   "source": [
    "Fibonnacci Series\n",
    "\n",
    "Reccursion way"
   ]
  },
  {
   "cell_type": "code",
   "execution_count": 3,
   "metadata": {},
   "outputs": [
    {
     "name": "stdout",
     "output_type": "stream",
     "text": [
      "[0, 1, 1, 2, 3, 5, 8, 13, 21, 34]\n"
     ]
    }
   ],
   "source": [
    "#Define a function for input total no of Numbers\n",
    "def get_total_number_of_numbers () -> int:\n",
    "    \"\"\"\n",
    "    get_total_number_of_numbers function gets total numbers of fibonacci list items count or any exception.\n",
    "\n",
    "    Parameters:\n",
    "    - No Parameters.\n",
    "\n",
    "    Returns:\n",
    "    - int total number of fibonacci numbers.\n",
    "    \"\"\"\n",
    "    try:\n",
    "        total_number = int(input(\"Enter total number of Numbers\"))\n",
    "        return total_number\n",
    "    except Exception as error: \n",
    "        print(error)\n",
    "        return 0\n",
    "\n",
    "def generateFibonacci (list: list, total_number: int) -> list:\n",
    "    for i in range(2, total_number):\n",
    "        list.append(list[i-1]+list[i-2])\n",
    "    return list\n",
    "\n",
    "def get_list_fibonacci_series (total_number: int) -> list:\n",
    "    list = [0]\n",
    "    if total_number == 1:\n",
    "        return list\n",
    "    elif total_number == 2:\n",
    "        list.append(1)\n",
    "        return list\n",
    "    elif total_number > 2:\n",
    "        list.append(1)\n",
    "        return generateFibonacci(list, total_number)\n",
    "\n",
    "num = get_total_number_of_numbers()\n",
    "list = get_list_fibonacci_series(num)\n",
    "print(list)\n"
   ]
  }
 ],
 "metadata": {
  "kernelspec": {
   "display_name": "Python 3",
   "language": "python",
   "name": "python3"
  },
  "language_info": {
   "codemirror_mode": {
    "name": "ipython",
    "version": 3
   },
   "file_extension": ".py",
   "mimetype": "text/x-python",
   "name": "python",
   "nbconvert_exporter": "python",
   "pygments_lexer": "ipython3",
   "version": "3.11.5"
  },
  "orig_nbformat": 4
 },
 "nbformat": 4,
 "nbformat_minor": 2
}
