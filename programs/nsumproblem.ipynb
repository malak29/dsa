{
 "cells": [
  {
   "cell_type": "markdown",
   "metadata": {},
   "source": [
    "Input numbers in a list:[n]\n",
    "\n",
    "Input to choose number of elements to sum (N):\n",
    "\n",
    "Input the desired sum (s):\n",
    "\n",
    "Result should be a list of n numbers whose sum is s\n",
    "\n",
    "Methods:\n",
    "\n",
    "1: Brute force O(n^N)\n",
    "\n",
    "2: Dictionart O(n)\n",
    "\n",
    "3: Sorted array O(nlogn)"
   ]
  },
  {
   "cell_type": "code",
   "execution_count": 5,
   "metadata": {},
   "outputs": [],
   "source": [
    "# Brute force\n",
    "def bruteForce(numberList: list, numberOfElements: int, sum: int):\n",
    "    sumList = []\n",
    "    for index, num in enumerate(numberList):\n",
    "        for index2, item in enumerate(numberList):\n",
    "            if (index !=index2) and sum == (num + item):\n",
    "                sumList.append([num, item])\n",
    "    return sumList"
   ]
  },
  {
   "cell_type": "code",
   "execution_count": 6,
   "metadata": {},
   "outputs": [],
   "source": [
    "# Dictionary\n",
    "def dictionary(numberList, numberOfElements, sum):\n",
    "    sumList = []\n",
    "    return sumList"
   ]
  },
  {
   "cell_type": "code",
   "execution_count": 7,
   "metadata": {},
   "outputs": [],
   "source": [
    "# Sorted array\n",
    "def sortedArray(numberList, numberOfElements, sum):\n",
    "    sumList = []\n",
    "    return sumList"
   ]
  },
  {
   "cell_type": "code",
   "execution_count": 8,
   "metadata": {},
   "outputs": [
    {
     "name": "stdout",
     "output_type": "stream",
     "text": [
      "Number list:  [1, 2, 3, 4, 5]\n",
      "number of elements to sum:  2\n",
      "Sum:  3\n",
      "Method:  Brute force\n",
      "[[1, 2], [2, 1]]\n"
     ]
    }
   ],
   "source": [
    "numberList = []\n",
    "numberOfElements = 0\n",
    "sum = 0\n",
    "method = 0\n",
    "methods = { 1: \"Brute force\", 2: \"Dictionary\", 3: \"Sorted Array\" }\n",
    "def methodFunctions (method):\n",
    "    functions = { 1: bruteForce(numberList, numberOfElements, sum), 2: dictionary(numberList, numberOfElements, sum), 3: sortedArray(numberList, numberOfElements, sum) }\n",
    "    return functions.get(method)\n",
    "\n",
    "try:\n",
    "    while True:\n",
    "        numberList.append(int(input(\"Enter list of numbers\")))\n",
    "except:\n",
    "    print(\"Number list: \", numberList)\n",
    "\n",
    "numberOfElements = int(input(\"Enter number of elements to sum\"))\n",
    "print(\"number of elements to sum: \", numberOfElements)\n",
    "sum = int(input(\"Enter sum\"))\n",
    "print(\"Sum: \", sum)\n",
    "\n",
    "method = int(input(\"Enter method\"))\n",
    "print(\"Method: \", methods[method])\n",
    "\n",
    "print(methodFunctions(method))"
   ]
  }
 ],
 "metadata": {
  "kernelspec": {
   "display_name": "Python 3",
   "language": "python",
   "name": "python3"
  },
  "language_info": {
   "codemirror_mode": {
    "name": "ipython",
    "version": 3
   },
   "file_extension": ".py",
   "mimetype": "text/x-python",
   "name": "python",
   "nbconvert_exporter": "python",
   "pygments_lexer": "ipython3",
   "version": "3.11.5"
  },
  "orig_nbformat": 4
 },
 "nbformat": 4,
 "nbformat_minor": 2
}
